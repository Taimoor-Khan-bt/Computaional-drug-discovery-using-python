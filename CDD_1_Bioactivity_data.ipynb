{
 "cells": [
  {
   "cell_type": "markdown",
   "id": "d0d55642",
   "metadata": {},
   "source": [
    "# 1 - Extraction of Bioactivity data from Chembl Database and Pre-Processing"
   ]
  },
  {
   "cell_type": "code",
   "execution_count": 2,
   "id": "8924e4b4",
   "metadata": {},
   "outputs": [
    {
     "name": "stdout",
     "output_type": "stream",
     "text": [
      "Collecting chembl_webresource_client\n",
      "  Using cached chembl_webresource_client-0.10.8-py3-none-any.whl (55 kB)\n",
      "Collecting easydict\n",
      "  Using cached easydict-1.9-py3-none-any.whl\n",
      "Requirement already satisfied: urllib3 in /home/ghost/miniconda3/envs/bioinfo/lib/python3.8/site-packages (from chembl_webresource_client) (1.26.8)\n",
      "Requirement already satisfied: requests>=2.18.4 in /home/ghost/miniconda3/envs/bioinfo/lib/python3.8/site-packages (from chembl_webresource_client) (2.27.1)\n",
      "Collecting requests-cache~=0.7.0\n",
      "  Using cached requests_cache-0.7.5-py3-none-any.whl (39 kB)\n",
      "Requirement already satisfied: certifi>=2017.4.17 in /home/ghost/miniconda3/envs/bioinfo/lib/python3.8/site-packages (from requests>=2.18.4->chembl_webresource_client) (2022.6.15)\n",
      "Requirement already satisfied: idna<4,>=2.5 in /home/ghost/miniconda3/envs/bioinfo/lib/python3.8/site-packages (from requests>=2.18.4->chembl_webresource_client) (3.3)\n",
      "Requirement already satisfied: charset-normalizer~=2.0.0 in /home/ghost/miniconda3/envs/bioinfo/lib/python3.8/site-packages (from requests>=2.18.4->chembl_webresource_client) (2.0.12)\n",
      "Collecting url-normalize<2.0,>=1.4\n",
      "  Using cached url_normalize-1.4.3-py2.py3-none-any.whl (6.8 kB)\n",
      "Collecting itsdangerous>=2.0.1\n",
      "  Using cached itsdangerous-2.1.2-py3-none-any.whl (15 kB)\n",
      "Requirement already satisfied: attrs<22.0,>=21.2 in /home/ghost/miniconda3/envs/bioinfo/lib/python3.8/site-packages (from requests-cache~=0.7.0->chembl_webresource_client) (21.4.0)\n",
      "Collecting pyyaml>=5.4\n",
      "  Using cached PyYAML-6.0-cp38-cp38-manylinux_2_5_x86_64.manylinux1_x86_64.manylinux_2_12_x86_64.manylinux2010_x86_64.whl (701 kB)\n",
      "Requirement already satisfied: six in /home/ghost/miniconda3/envs/bioinfo/lib/python3.8/site-packages (from url-normalize<2.0,>=1.4->requests-cache~=0.7.0->chembl_webresource_client) (1.16.0)\n",
      "Installing collected packages: easydict, url-normalize, pyyaml, itsdangerous, requests-cache, chembl_webresource_client\n",
      "Successfully installed chembl_webresource_client-0.10.8 easydict-1.9 itsdangerous-2.1.2 pyyaml-6.0 requests-cache-0.7.5 url-normalize-1.4.3\n",
      "Requirement already satisfied: pandas in /home/ghost/miniconda3/envs/bioinfo/lib/python3.8/site-packages (1.4.3)\n",
      "Requirement already satisfied: python-dateutil>=2.8.1 in /home/ghost/miniconda3/envs/bioinfo/lib/python3.8/site-packages (from pandas) (2.8.2)\n",
      "Requirement already satisfied: pytz>=2020.1 in /home/ghost/miniconda3/envs/bioinfo/lib/python3.8/site-packages (from pandas) (2022.1)\n",
      "Requirement already satisfied: numpy>=1.18.5 in /home/ghost/miniconda3/envs/bioinfo/lib/python3.8/site-packages (from pandas) (1.22.3)\n",
      "Requirement already satisfied: six>=1.5 in /home/ghost/miniconda3/envs/bioinfo/lib/python3.8/site-packages (from python-dateutil>=2.8.1->pandas) (1.16.0)\n"
     ]
    }
   ],
   "source": [
    "# Install chemble_webresource_client to acces the Chembl Database.\n",
    "\n",
    "#! pip install chembl_webresource_client\n",
    "#! pip install pandas"
   ]
  },
  {
   "cell_type": "code",
   "execution_count": null,
   "id": "bcf66380",
   "metadata": {},
   "outputs": [],
   "source": [
    "# Import the required packages.\n",
    "import pandas as pd\n",
    "from chembl_webresource_client.new_client import new_client"
   ]
  },
  {
   "cell_type": "code",
   "execution_count": 3,
   "id": "c5b38105",
   "metadata": {},
   "outputs": [
    {
     "ename": "NameError",
     "evalue": "name 'new_client' is not defined",
     "output_type": "error",
     "traceback": [
      "\u001b[0;31m---------------------------------------------------------------------------\u001b[0m",
      "\u001b[0;31mNameError\u001b[0m                                 Traceback (most recent call last)",
      "Input \u001b[0;32mIn [3]\u001b[0m, in \u001b[0;36m<cell line: 3>\u001b[0;34m()\u001b[0m\n\u001b[1;32m      1\u001b[0m \u001b[38;5;66;03m# Target search for coronavirus\u001b[39;00m\n\u001b[0;32m----> 3\u001b[0m target \u001b[38;5;241m=\u001b[39m \u001b[43mnew_client\u001b[49m\u001b[38;5;241m.\u001b[39mtarget\n\u001b[1;32m      4\u001b[0m target_query \u001b[38;5;241m=\u001b[39m target\u001b[38;5;241m.\u001b[39msearch(\u001b[38;5;124m\"\u001b[39m\u001b[38;5;124mcoronavirus\u001b[39m\u001b[38;5;124m\"\u001b[39m)\n\u001b[1;32m      5\u001b[0m targets \u001b[38;5;241m=\u001b[39m pd\u001b[38;5;241m.\u001b[39mDataFrame\u001b[38;5;241m.\u001b[39mfrom_dict(target_query)\n",
      "\u001b[0;31mNameError\u001b[0m: name 'new_client' is not defined"
     ]
    }
   ],
   "source": [
    "# Target search for coronavirus\n",
    "\n",
    "target = new_client.target\n",
    "target_query = target.search(\"coronavirus\")\n",
    "targets = pd.DataFrame.from_dict(target_query)\n",
    "targets"
   ]
  },
  {
   "cell_type": "code",
   "execution_count": 6,
   "id": "1af98474",
   "metadata": {},
   "outputs": [
    {
     "data": {
      "text/plain": [
       "'CHEMBL3927'"
      ]
     },
     "execution_count": 6,
     "metadata": {},
     "output_type": "execute_result"
    }
   ],
   "source": [
    "# Select SARS coronavirus 3C-like protenase (Single protein) @ index-4 (fifth entry)\n",
    "\n",
    "selected_target = targets.target_chembl_id[4]\n",
    "selected_target"
   ]
  },
  {
   "cell_type": "code",
   "execution_count": 37,
   "id": "b18b0716",
   "metadata": {},
   "outputs": [],
   "source": [
    "# Retrieve Bioactivity data of the CHMBL3972 reported as IC50 in nM(nanoMolar)unit.\n",
    "\n",
    "activity = new_client.activity\n",
    "res = activity.filter(target_chembl_id = selected_target).filter(standard_type=\"IC50\")"
   ]
  },
  {
   "cell_type": "code",
   "execution_count": 38,
   "id": "887e6f09",
   "metadata": {},
   "outputs": [],
   "source": [
    "# Convert it into a dataframe\n",
    "\n",
    "df = pd.DataFrame.from_dict(res)"
   ]
  },
  {
   "cell_type": "code",
   "execution_count": 44,
   "id": "dfb25207",
   "metadata": {},
   "outputs": [
    {
     "data": {
      "text/html": [
       "<div>\n",
       "<style scoped>\n",
       "    .dataframe tbody tr th:only-of-type {\n",
       "        vertical-align: middle;\n",
       "    }\n",
       "\n",
       "    .dataframe tbody tr th {\n",
       "        vertical-align: top;\n",
       "    }\n",
       "\n",
       "    .dataframe thead th {\n",
       "        text-align: right;\n",
       "    }\n",
       "</style>\n",
       "<table border=\"1\" class=\"dataframe\">\n",
       "  <thead>\n",
       "    <tr style=\"text-align: right;\">\n",
       "      <th></th>\n",
       "      <th>activity_comment</th>\n",
       "      <th>activity_id</th>\n",
       "      <th>activity_properties</th>\n",
       "      <th>assay_chembl_id</th>\n",
       "      <th>assay_description</th>\n",
       "      <th>assay_type</th>\n",
       "      <th>assay_variant_accession</th>\n",
       "      <th>assay_variant_mutation</th>\n",
       "      <th>bao_endpoint</th>\n",
       "      <th>bao_format</th>\n",
       "      <th>...</th>\n",
       "      <th>target_organism</th>\n",
       "      <th>target_pref_name</th>\n",
       "      <th>target_tax_id</th>\n",
       "      <th>text_value</th>\n",
       "      <th>toid</th>\n",
       "      <th>type</th>\n",
       "      <th>units</th>\n",
       "      <th>uo_units</th>\n",
       "      <th>upper_value</th>\n",
       "      <th>value</th>\n",
       "    </tr>\n",
       "  </thead>\n",
       "  <tbody>\n",
       "    <tr>\n",
       "      <th>0</th>\n",
       "      <td>None</td>\n",
       "      <td>1480935</td>\n",
       "      <td>[]</td>\n",
       "      <td>CHEMBL829584</td>\n",
       "      <td>In vitro inhibitory concentration against SARS...</td>\n",
       "      <td>B</td>\n",
       "      <td>None</td>\n",
       "      <td>None</td>\n",
       "      <td>BAO_0000190</td>\n",
       "      <td>BAO_0000357</td>\n",
       "      <td>...</td>\n",
       "      <td>SARS coronavirus</td>\n",
       "      <td>SARS coronavirus 3C-like proteinase</td>\n",
       "      <td>227859</td>\n",
       "      <td>None</td>\n",
       "      <td>None</td>\n",
       "      <td>IC50</td>\n",
       "      <td>uM</td>\n",
       "      <td>UO_0000065</td>\n",
       "      <td>None</td>\n",
       "      <td>7.2</td>\n",
       "    </tr>\n",
       "    <tr>\n",
       "      <th>1</th>\n",
       "      <td>None</td>\n",
       "      <td>1480936</td>\n",
       "      <td>[]</td>\n",
       "      <td>CHEMBL829584</td>\n",
       "      <td>In vitro inhibitory concentration against SARS...</td>\n",
       "      <td>B</td>\n",
       "      <td>None</td>\n",
       "      <td>None</td>\n",
       "      <td>BAO_0000190</td>\n",
       "      <td>BAO_0000357</td>\n",
       "      <td>...</td>\n",
       "      <td>SARS coronavirus</td>\n",
       "      <td>SARS coronavirus 3C-like proteinase</td>\n",
       "      <td>227859</td>\n",
       "      <td>None</td>\n",
       "      <td>None</td>\n",
       "      <td>IC50</td>\n",
       "      <td>uM</td>\n",
       "      <td>UO_0000065</td>\n",
       "      <td>None</td>\n",
       "      <td>9.4</td>\n",
       "    </tr>\n",
       "    <tr>\n",
       "      <th>2</th>\n",
       "      <td>None</td>\n",
       "      <td>1481061</td>\n",
       "      <td>[]</td>\n",
       "      <td>CHEMBL830868</td>\n",
       "      <td>In vitro inhibitory concentration against SARS...</td>\n",
       "      <td>B</td>\n",
       "      <td>None</td>\n",
       "      <td>None</td>\n",
       "      <td>BAO_0000190</td>\n",
       "      <td>BAO_0000357</td>\n",
       "      <td>...</td>\n",
       "      <td>SARS coronavirus</td>\n",
       "      <td>SARS coronavirus 3C-like proteinase</td>\n",
       "      <td>227859</td>\n",
       "      <td>None</td>\n",
       "      <td>None</td>\n",
       "      <td>IC50</td>\n",
       "      <td>uM</td>\n",
       "      <td>UO_0000065</td>\n",
       "      <td>None</td>\n",
       "      <td>13.5</td>\n",
       "    </tr>\n",
       "  </tbody>\n",
       "</table>\n",
       "<p>3 rows × 45 columns</p>\n",
       "</div>"
      ],
      "text/plain": [
       "  activity_comment  activity_id activity_properties assay_chembl_id  \\\n",
       "0             None      1480935                  []    CHEMBL829584   \n",
       "1             None      1480936                  []    CHEMBL829584   \n",
       "2             None      1481061                  []    CHEMBL830868   \n",
       "\n",
       "                                   assay_description assay_type  \\\n",
       "0  In vitro inhibitory concentration against SARS...          B   \n",
       "1  In vitro inhibitory concentration against SARS...          B   \n",
       "2  In vitro inhibitory concentration against SARS...          B   \n",
       "\n",
       "  assay_variant_accession assay_variant_mutation bao_endpoint   bao_format  \\\n",
       "0                    None                   None  BAO_0000190  BAO_0000357   \n",
       "1                    None                   None  BAO_0000190  BAO_0000357   \n",
       "2                    None                   None  BAO_0000190  BAO_0000357   \n",
       "\n",
       "   ...   target_organism                     target_pref_name target_tax_id  \\\n",
       "0  ...  SARS coronavirus  SARS coronavirus 3C-like proteinase        227859   \n",
       "1  ...  SARS coronavirus  SARS coronavirus 3C-like proteinase        227859   \n",
       "2  ...  SARS coronavirus  SARS coronavirus 3C-like proteinase        227859   \n",
       "\n",
       "  text_value  toid  type  units    uo_units upper_value value  \n",
       "0       None  None  IC50     uM  UO_0000065        None   7.2  \n",
       "1       None  None  IC50     uM  UO_0000065        None   9.4  \n",
       "2       None  None  IC50     uM  UO_0000065        None  13.5  \n",
       "\n",
       "[3 rows x 45 columns]"
      ]
     },
     "execution_count": 44,
     "metadata": {},
     "output_type": "execute_result"
    }
   ],
   "source": [
    "df.head(3)"
   ]
  },
  {
   "cell_type": "code",
   "execution_count": 45,
   "id": "1c75554e",
   "metadata": {},
   "outputs": [],
   "source": [
    "# Now save the Bioactivity in a .csv file with index=False\n",
    "\n",
    "bioactivity_file = df.to_csv(\"bioactivity_data.csv\", index = False)"
   ]
  },
  {
   "cell_type": "code",
   "execution_count": 48,
   "id": "6108880f",
   "metadata": {},
   "outputs": [],
   "source": [
    "# Let's handle our missing data here\n",
    "\n",
    "df2 = df[df.value.notna()]"
   ]
  },
  {
   "cell_type": "code",
   "execution_count": 69,
   "id": "38a23c77",
   "metadata": {},
   "outputs": [
    {
     "data": {
      "text/plain": [
       "0       CHEMBL187579\n",
       "1       CHEMBL188487\n",
       "2       CHEMBL185698\n",
       "3       CHEMBL426082\n",
       "4       CHEMBL187717\n",
       "           ...      \n",
       "128    CHEMBL2146517\n",
       "129     CHEMBL187460\n",
       "130     CHEMBL363535\n",
       "131     CHEMBL227075\n",
       "132      CHEMBL45830\n",
       "Name: molecule_chembl_id, Length: 133, dtype: object"
      ]
     },
     "execution_count": 69,
     "metadata": {},
     "output_type": "execute_result"
    }
   ],
   "source": [
    "df2.molecule_chembl_id"
   ]
  },
  {
   "cell_type": "markdown",
   "id": "f2adbd20",
   "metadata": {},
   "source": [
    "# Pre-processing of the bioactivity Data"
   ]
  },
  {
   "cell_type": "code",
   "execution_count": 54,
   "id": "3ef9672b",
   "metadata": {},
   "outputs": [],
   "source": [
    "#1 Let's distribute the data into active, inactive, and intermediate classes.\n",
    "\n",
    "bioactivity_class = list()\n",
    "for i in df2.standard_value:\n",
    "    if float(i)>= 10000:\n",
    "        bioactivity_class.append(\"inactive\")\n",
    "    elif float(i) <= 1000:\n",
    "        bioactivity_class.append(\"active\")\n",
    "    else:\n",
    "        bioactivity_class.append(\"intermediate\")"
   ]
  },
  {
   "cell_type": "code",
   "execution_count": 83,
   "id": "4d13e0c2",
   "metadata": {},
   "outputs": [
    {
     "data": {
      "text/html": [
       "<div>\n",
       "<style scoped>\n",
       "    .dataframe tbody tr th:only-of-type {\n",
       "        vertical-align: middle;\n",
       "    }\n",
       "\n",
       "    .dataframe tbody tr th {\n",
       "        vertical-align: top;\n",
       "    }\n",
       "\n",
       "    .dataframe thead th {\n",
       "        text-align: right;\n",
       "    }\n",
       "</style>\n",
       "<table border=\"1\" class=\"dataframe\">\n",
       "  <thead>\n",
       "    <tr style=\"text-align: right;\">\n",
       "      <th></th>\n",
       "      <th>molecule_chembl_id</th>\n",
       "      <th>canonical_smiles</th>\n",
       "      <th>standard_value</th>\n",
       "      <th>bioactivity</th>\n",
       "    </tr>\n",
       "  </thead>\n",
       "  <tbody>\n",
       "    <tr>\n",
       "      <th>0</th>\n",
       "      <td>CHEMBL187579</td>\n",
       "      <td>Cc1noc(C)c1CN1C(=O)C(=O)c2cc(C#N)ccc21</td>\n",
       "      <td>7200.0</td>\n",
       "      <td>intermediate</td>\n",
       "    </tr>\n",
       "    <tr>\n",
       "      <th>1</th>\n",
       "      <td>CHEMBL188487</td>\n",
       "      <td>O=C1C(=O)N(Cc2ccc(F)cc2Cl)c2ccc(I)cc21</td>\n",
       "      <td>9400.0</td>\n",
       "      <td>intermediate</td>\n",
       "    </tr>\n",
       "    <tr>\n",
       "      <th>2</th>\n",
       "      <td>CHEMBL185698</td>\n",
       "      <td>O=C1C(=O)N(CC2COc3ccccc3O2)c2ccc(I)cc21</td>\n",
       "      <td>13500.0</td>\n",
       "      <td>inactive</td>\n",
       "    </tr>\n",
       "    <tr>\n",
       "      <th>3</th>\n",
       "      <td>CHEMBL426082</td>\n",
       "      <td>O=C1C(=O)N(Cc2cc3ccccc3s2)c2ccccc21</td>\n",
       "      <td>13110.0</td>\n",
       "      <td>inactive</td>\n",
       "    </tr>\n",
       "    <tr>\n",
       "      <th>4</th>\n",
       "      <td>CHEMBL187717</td>\n",
       "      <td>O=C1C(=O)N(Cc2cc3ccccc3s2)c2c1cccc2[N+](=O)[O-]</td>\n",
       "      <td>2000.0</td>\n",
       "      <td>intermediate</td>\n",
       "    </tr>\n",
       "    <tr>\n",
       "      <th>...</th>\n",
       "      <td>...</td>\n",
       "      <td>...</td>\n",
       "      <td>...</td>\n",
       "      <td>...</td>\n",
       "    </tr>\n",
       "    <tr>\n",
       "      <th>128</th>\n",
       "      <td>CHEMBL2146517</td>\n",
       "      <td>COC(=O)[C@@]1(C)CCCc2c1ccc1c2C(=O)C(=O)c2c(C)c...</td>\n",
       "      <td>10600.0</td>\n",
       "      <td>inactive</td>\n",
       "    </tr>\n",
       "    <tr>\n",
       "      <th>129</th>\n",
       "      <td>CHEMBL187460</td>\n",
       "      <td>C[C@H]1COC2=C1C(=O)C(=O)c1c2ccc2c1CCCC2(C)C</td>\n",
       "      <td>10100.0</td>\n",
       "      <td>inactive</td>\n",
       "    </tr>\n",
       "    <tr>\n",
       "      <th>130</th>\n",
       "      <td>CHEMBL363535</td>\n",
       "      <td>Cc1coc2c1C(=O)C(=O)c1c-2ccc2c(C)cccc12</td>\n",
       "      <td>11500.0</td>\n",
       "      <td>inactive</td>\n",
       "    </tr>\n",
       "    <tr>\n",
       "      <th>131</th>\n",
       "      <td>CHEMBL227075</td>\n",
       "      <td>Cc1cccc2c3c(ccc12)C1=C(C(=O)C3=O)[C@@H](C)CO1</td>\n",
       "      <td>10700.0</td>\n",
       "      <td>inactive</td>\n",
       "    </tr>\n",
       "    <tr>\n",
       "      <th>132</th>\n",
       "      <td>CHEMBL45830</td>\n",
       "      <td>CC(C)C1=Cc2ccc3c(c2C(=O)C1=O)CCCC3(C)C</td>\n",
       "      <td>78900.0</td>\n",
       "      <td>inactive</td>\n",
       "    </tr>\n",
       "  </tbody>\n",
       "</table>\n",
       "<p>133 rows × 4 columns</p>\n",
       "</div>"
      ],
      "text/plain": [
       "    molecule_chembl_id                                   canonical_smiles  \\\n",
       "0         CHEMBL187579             Cc1noc(C)c1CN1C(=O)C(=O)c2cc(C#N)ccc21   \n",
       "1         CHEMBL188487             O=C1C(=O)N(Cc2ccc(F)cc2Cl)c2ccc(I)cc21   \n",
       "2         CHEMBL185698            O=C1C(=O)N(CC2COc3ccccc3O2)c2ccc(I)cc21   \n",
       "3         CHEMBL426082                O=C1C(=O)N(Cc2cc3ccccc3s2)c2ccccc21   \n",
       "4         CHEMBL187717    O=C1C(=O)N(Cc2cc3ccccc3s2)c2c1cccc2[N+](=O)[O-]   \n",
       "..                 ...                                                ...   \n",
       "128      CHEMBL2146517  COC(=O)[C@@]1(C)CCCc2c1ccc1c2C(=O)C(=O)c2c(C)c...   \n",
       "129       CHEMBL187460        C[C@H]1COC2=C1C(=O)C(=O)c1c2ccc2c1CCCC2(C)C   \n",
       "130       CHEMBL363535             Cc1coc2c1C(=O)C(=O)c1c-2ccc2c(C)cccc12   \n",
       "131       CHEMBL227075      Cc1cccc2c3c(ccc12)C1=C(C(=O)C3=O)[C@@H](C)CO1   \n",
       "132        CHEMBL45830             CC(C)C1=Cc2ccc3c(c2C(=O)C1=O)CCCC3(C)C   \n",
       "\n",
       "    standard_value   bioactivity  \n",
       "0           7200.0  intermediate  \n",
       "1           9400.0  intermediate  \n",
       "2          13500.0      inactive  \n",
       "3          13110.0      inactive  \n",
       "4           2000.0  intermediate  \n",
       "..             ...           ...  \n",
       "128        10600.0      inactive  \n",
       "129        10100.0      inactive  \n",
       "130        11500.0      inactive  \n",
       "131        10700.0      inactive  \n",
       "132        78900.0      inactive  \n",
       "\n",
       "[133 rows x 4 columns]"
      ]
     },
     "execution_count": 83,
     "metadata": {},
     "output_type": "execute_result"
    }
   ],
   "source": [
    "# Select molecule_chembl_id, canonical_smiles, and standard_value from df2\n",
    "\n",
    "selection = [\"molecule_chembl_id\", \"canonical_smiles\", \"standard_value\"]\n",
    "df3 = df2[selection]\n",
    "pd.DataFrame.assign(df3, bioactivity=bioactivity_class)"
   ]
  },
  {
   "cell_type": "code",
   "execution_count": 85,
   "id": "024edeaf",
   "metadata": {},
   "outputs": [],
   "source": [
    "df3.to_csv(\"bioactivity_preprocessed_data.csv\", index=False)"
   ]
  }
 ],
 "metadata": {
  "kernelspec": {
   "display_name": "Python 3 (ipykernel)",
   "language": "python",
   "name": "python3"
  },
  "language_info": {
   "codemirror_mode": {
    "name": "ipython",
    "version": 3
   },
   "file_extension": ".py",
   "mimetype": "text/x-python",
   "name": "python",
   "nbconvert_exporter": "python",
   "pygments_lexer": "ipython3",
   "version": "3.8.12"
  }
 },
 "nbformat": 4,
 "nbformat_minor": 5
}
